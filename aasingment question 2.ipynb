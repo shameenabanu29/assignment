{
 "cells": [
  {
   "cell_type": "markdown",
   "id": "ea84ccca",
   "metadata": {},
   "source": [
    "                #ASSINGNMENT QUESTION 2"
   ]
  },
  {
   "cell_type": "code",
   "execution_count": 1,
   "id": "16076af4",
   "metadata": {},
   "outputs": [],
   "source": [
    "# 1)write a function add_numbers that takes two numbers as argument and return their sum"
   ]
  },
  {
   "cell_type": "code",
   "execution_count": 11,
   "id": "f8f355b6",
   "metadata": {},
   "outputs": [],
   "source": [
    "def add_numbers(num1,num2):\n",
    "   return num1+num2\n",
    "   result= add_numbers(3,5)\n",
    "   print(result)\n",
    "    "
   ]
  },
  {
   "cell_type": "code",
   "execution_count": null,
   "id": "70162308",
   "metadata": {},
   "outputs": [],
   "source": [
    "#2) write a function multiply_ numbers that takes two numbers as arguments and vreturn their product"
   ]
  },
  {
   "cell_type": "code",
   "execution_count": 4,
   "id": "ddab3d9a",
   "metadata": {},
   "outputs": [],
   "source": [
    "def multiply_numbers(num1,num2):\n",
    "    return num1*num2\n",
    "    result= multiply_numbers(3,5)\n",
    "    print(result)\n",
    "    print(\"result is \",result)"
   ]
  },
  {
   "cell_type": "code",
   "execution_count": 5,
   "id": "2cb47d60",
   "metadata": {},
   "outputs": [],
   "source": [
    "#3) write a funtion divide_ numbers that takes two numbers as a argument and return their quotieint.make sure to handle the case whhere the second numbers is 0."
   ]
  },
  {
   "cell_type": "code",
   "execution_count": 6,
   "id": "e8271101",
   "metadata": {},
   "outputs": [],
   "source": [
    "def divide_numbers(num1,num2):\n",
    "    if num2 ==0:\n",
    "        return \"error: cannot divide by zero\"\n",
    "    else:\n",
    "        return num1/num2\n",
    "    result=divide_numbers(10,2)\n",
    "    print(result)\n",
    "    result=divide_numbers(8,0)\n",
    "    print(result)"
   ]
  },
  {
   "cell_type": "code",
   "execution_count": 7,
   "id": "4440f39a",
   "metadata": {},
   "outputs": [],
   "source": [
    "#4)write a function calculate_average that takes a list of numbers as an argument and returns their average."
   ]
  },
  {
   "cell_type": "code",
   "execution_count": 10,
   "id": "65762cc2",
   "metadata": {},
   "outputs": [],
   "source": [
    "def calculate_average(numbers):\n",
    "    if not numbers:\n",
    "        return \"Error:list is empty\"\n",
    "        total=sum(numbers)\n",
    "        return total/len(numbers)\n",
    "        numbers=[2,4,6,8,10]\n",
    "        result=calculate_average(numbers)\n",
    "        print(result)\n",
    "        empty_list=[]\n",
    "        result=calculate_average(empty_list)\n",
    "        print(result)"
   ]
  },
  {
   "cell_type": "code",
   "execution_count": null,
   "id": "1cead2a6",
   "metadata": {},
   "outputs": [],
   "source": [
    "#5)write a function is_prime that takes a numbers as an argument and return true if the is prime and false therwise"
   ]
  },
  {
   "cell_type": "code",
   "execution_count": 9,
   "id": "e26facfa",
   "metadata": {},
   "outputs": [],
   "source": [
    "def is_prime(numbers):\n",
    "    if numbers<=1:\n",
    "        return False\n",
    "    elif number==2:\n",
    "        return True\n",
    "    elif numbers%2==0:\n",
    "        return False\n",
    "    else:\n",
    "        for i in range(3,int(number**0.5)+1,2):\n",
    "             if number%i==0:\n",
    "                return False\n",
    "                return True\n",
    "        print(is_prime(7))\n",
    "        print(is_prime(14))"
   ]
  },
  {
   "cell_type": "code",
   "execution_count": null,
   "id": "07f4ff79",
   "metadata": {},
   "outputs": [],
   "source": [
    "#00ps"
   ]
  },
  {
   "cell_type": "code",
   "execution_count": 8,
   "id": "c937bdc6",
   "metadata": {},
   "outputs": [
    {
     "name": "stdout",
     "output_type": "stream",
     "text": [
      "Total Balance: 3000\n",
      "Total Balance after removing account1: 2000\n"
     ]
    }
   ],
   "source": [
    "class Bank:\n",
    "    def __init__(self, name):\n",
    "        self.name = name\n",
    "        self.accounts = []\n",
    "\n",
    "    def add_account(self, account):\n",
    "        self.accounts.append(account)\n",
    "\n",
    "    def remove_account(self, account):\n",
    "        if account in self.accounts:\n",
    "            self.accounts.remove(account)\n",
    "        else:\n",
    "            print(\"Account not found.\")\n",
    "\n",
    "    def get_total_balance(self):\n",
    "        total_balance = sum(account.balance for account in self.accounts)\n",
    "        return total_balance\n",
    "\n",
    "\n",
    "class Account:\n",
    "    def __init__(self, account_number, balance):\n",
    "        self.account_number = account_number\n",
    "        self.balance = balance\n",
    "\n",
    "\n",
    "bank = Bank(\"MyBank\")\n",
    "\n",
    "account1 = Account(\"123456\", 1000)\n",
    "account2 = Account(\"789012\", 2000)\n",
    "\n",
    "bank.add_account(account1)\n",
    "bank.add_account(account2)\n",
    "\n",
    "print(\"Total Balance:\", bank.get_total_balance())  \n",
    "\n",
    "bank.remove_account(account1)\n",
    "\n",
    "print(\"Total Balance after removing account1:\", bank.get_total_balance()) \n"
   ]
  }
 ],
 "metadata": {
  "kernelspec": {
   "display_name": "Python 3 (ipykernel)",
   "language": "python",
   "name": "python3"
  },
  "language_info": {
   "codemirror_mode": {
    "name": "ipython",
    "version": 3
   },
   "file_extension": ".py",
   "mimetype": "text/x-python",
   "name": "python",
   "nbconvert_exporter": "python",
   "pygments_lexer": "ipython3",
   "version": "3.11.3"
  }
 },
 "nbformat": 4,
 "nbformat_minor": 5
}
