{
 "cells": [
  {
   "cell_type": "markdown",
   "id": "ea84ccca",
   "metadata": {},
   "source": [
    "                #ASSINGNMENT QUESTION 2"
   ]
  },
  {
   "cell_type": "code",
   "execution_count": 1,
   "id": "16076af4",
   "metadata": {},
   "outputs": [],
   "source": [
    "# 1)write a function add_numbers that takes two numbers as argument and return their sum"
   ]
  },
  {
   "cell_type": "code",
   "execution_count": 20,
   "id": "f8f355b6",
   "metadata": {},
   "outputs": [
    {
     "name": "stdout",
     "output_type": "stream",
     "text": [
      "the sum is 8\n"
     ]
    }
   ],
   "source": [
    "def add_numbers(num1,num2):\n",
    "   return num1+num2\n",
    "print('the sum is', add_numbers(3,5))\n",
    "    "
   ]
  },
  {
   "cell_type": "code",
   "execution_count": null,
   "id": "70162308",
   "metadata": {},
   "outputs": [],
   "source": [
    "#2) write a function multiply_ numbers that takes two numbers as arguments and vreturn their product"
   ]
  },
  {
   "cell_type": "code",
   "execution_count": 22,
   "id": "ddab3d9a",
   "metadata": {},
   "outputs": [
    {
     "name": "stdout",
     "output_type": "stream",
     "text": [
      "the multiple of two numbers is 15\n"
     ]
    }
   ],
   "source": [
    "def multiply_numbers(num1,num2):\n",
    "    return num1*num2\n",
    "print('the multiple of two numbers is', multiply_numbers(3,5))\n",
    "\n"
   ]
  },
  {
   "cell_type": "code",
   "execution_count": 5,
   "id": "2cb47d60",
   "metadata": {},
   "outputs": [],
   "source": [
    "#3) write a funtion divide_ numbers that takes two numbers as a argument and return their quotieint.make sure to handle the case whhere the second numbers is 0."
   ]
  },
  {
   "cell_type": "code",
   "execution_count": 26,
   "id": "e8271101",
   "metadata": {},
   "outputs": [
    {
     "name": "stdout",
     "output_type": "stream",
     "text": [
      "the result is 5.0\n",
      "the result is error: cannot divide by zero\n"
     ]
    }
   ],
   "source": [
    "def divide_numbers(num1,num2):\n",
    "    if num2 ==0:\n",
    "        return \"error: cannot divide by zero\"\n",
    "    else:\n",
    "        return num1/num2\n",
    "print('the result is',divide_numbers(10,2))\n",
    "print('the result is',divide_numbers(8,0))"
   ]
  },
  {
   "cell_type": "code",
   "execution_count": 7,
   "id": "4440f39a",
   "metadata": {},
   "outputs": [],
   "source": [
    "#4)write a function calculate_average that takes a list of numbers as an argument and returns their average."
   ]
  },
  {
   "cell_type": "code",
   "execution_count": 82,
   "id": "65762cc2",
   "metadata": {},
   "outputs": [
    {
     "name": "stdout",
     "output_type": "stream",
     "text": [
      "Average: 3.0\n"
     ]
    }
   ],
   "source": [
    "def calculate_average(numbers):\n",
    "    \n",
    "\n",
    "    if not numbers:\n",
    "        return None  \n",
    "    \n",
    "    total = sum(numbers)\n",
    "    average = total / len(numbers)\n",
    "    return average\n",
    "\n",
    "\n",
    "numbers_list = [1, 2, 3, 4, 5]\n",
    "average_result = calculate_average(numbers_list)\n",
    "print(\"Average:\", average_result)\n",
    "\n",
    "        "
   ]
  },
  {
   "cell_type": "code",
   "execution_count": 55,
   "id": "e26facfa",
   "metadata": {},
   "outputs": [
    {
     "name": "stdout",
     "output_type": "stream",
     "text": [
      "THE RESULT IS True\n",
      "THE RESULT IS False\n"
     ]
    }
   ],
   "source": [
    "def is_prime(numbers):\n",
    "    result = False\n",
    "    if numbers>=1:\n",
    "        for i in range(2,numbers):\n",
    "            \n",
    "            if (numbers%i)==0:\n",
    "                return result\n",
    "        else:\n",
    "            result = True\n",
    "             \n",
    "    return result\n",
    "print('THE RESULT IS',is_prime(7))\n",
    "print('THE RESULT IS',is_prime(14))"
   ]
  },
  {
   "cell_type": "raw",
   "id": "9b774c47",
   "metadata": {},
   "source": [
    "#00ps"
   ]
  },
  {
   "cell_type": "code",
   "execution_count": 1,
   "id": "c937bdc6",
   "metadata": {},
   "outputs": [
    {
     "name": "stdout",
     "output_type": "stream",
     "text": [
      "Total Balance: 8000\n",
      "Total Balance after removing account1: 3000\n"
     ]
    }
   ],
   "source": [
    "class Bank:\n",
    "    def __init__(self, name):\n",
    "        self.name = name\n",
    "        self.accounts = []\n",
    "\n",
    "    def add_account(self, account):\n",
    "        self.accounts.append(account)\n",
    "\n",
    "    def remove_account(self, account):\n",
    "        if account in self.accounts:\n",
    "            self.accounts.remove(account)\n",
    "        else:\n",
    "            print(\"Account not found.\")\n",
    "\n",
    "    def get_total_balance(self):\n",
    "        total_balance = sum(account.balance for account in self.accounts)\n",
    "        return total_balance\n",
    "\n",
    "\n",
    "class Account:\n",
    "    def __init__(self, account_number, balance):\n",
    "        self.account_number = account_number\n",
    "        self.balance = balance\n",
    "\n",
    "\n",
    "bank = Bank(\"MyBank\")\n",
    "\n",
    "account1 = Account(\"123456\", 5000)\n",
    "account2 = Account(\"789012\", 3000)\n",
    "\n",
    "bank.add_account(account1)\n",
    "bank.add_account(account2)\n",
    "\n",
    "print(\"Total Balance:\", bank.get_total_balance())  \n",
    "\n",
    "bank.remove_account(account1)\n",
    "\n",
    "print(\"Total Balance after removing account1:\", bank.get_total_balance()) \n"
   ]
  }
 ],
 "metadata": {
  "kernelspec": {
   "display_name": "Python 3 (ipykernel)",
   "language": "python",
   "name": "python3"
  },
  "language_info": {
   "codemirror_mode": {
    "name": "ipython",
    "version": 3
   },
   "file_extension": ".py",
   "mimetype": "text/x-python",
   "name": "python",
   "nbconvert_exporter": "python",
   "pygments_lexer": "ipython3",
   "version": "3.11.3"
  }
 },
 "nbformat": 4,
 "nbformat_minor": 5
}
