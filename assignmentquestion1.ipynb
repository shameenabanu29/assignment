{
 "cells": [
  {
   "cell_type": "markdown",
   "id": "6c5a728b",
   "metadata": {},
   "source": [
    "                    #ASSIGNMENT QUESTION 1"
   ]
  },
  {
   "cell_type": "code",
   "execution_count": null,
   "id": "202ca5d5",
   "metadata": {},
   "outputs": [],
   "source": [
    "# 1) create a variable x and assign it the values5 .print the values of x"
   ]
  },
  {
   "cell_type": "code",
   "execution_count": 7,
   "id": "5491d751",
   "metadata": {},
   "outputs": [
    {
     "name": "stdout",
     "output_type": "stream",
     "text": [
      "5\n"
     ]
    }
   ],
   "source": [
    "     x=5\n",
    "     print(x)  "
   ]
  },
  {
   "cell_type": "code",
   "execution_count": 6,
   "id": "8f2fab3e",
   "metadata": {},
   "outputs": [],
   "source": [
    "# 2)create a two variable and b.and assign them values 3 and 2 respectively add a and b together and print the result"
   ]
  },
  {
   "cell_type": "code",
   "execution_count": 5,
   "id": "e7f09b26",
   "metadata": {},
   "outputs": [
    {
     "name": "stdout",
     "output_type": "stream",
     "text": [
      "add= 5\n"
     ]
    }
   ],
   "source": [
    "a=3\n",
    "b=2\n",
    "print(\"add=\",a+b)\n"
   ]
  },
  {
   "cell_type": "code",
   "execution_count": 8,
   "id": "b072f604",
   "metadata": {},
   "outputs": [],
   "source": [
    "# 3) create a variable pi and assign it values 3.14159.print the values of pi"
   ]
  },
  {
   "cell_type": "code",
   "execution_count": 5,
   "id": "94e3a301",
   "metadata": {},
   "outputs": [
    {
     "name": "stdout",
     "output_type": "stream",
     "text": [
      "3.14159\n"
     ]
    }
   ],
   "source": [
    "pi=3.14159\n",
    "print(pi)\n",
    "\n",
    "\n"
   ]
  },
  {
   "cell_type": "code",
   "execution_count": null,
   "id": "63ecb119",
   "metadata": {},
   "outputs": [],
   "source": [
    "# 4) create a variable radius and assign it the value 5 calculate the area of the circle with radius using formula pi* radius **2 and print the result\n"
   ]
  },
  {
   "cell_type": "code",
   "execution_count": 9,
   "id": "61cb337c",
   "metadata": {},
   "outputs": [
    {
     "name": "stdout",
     "output_type": "stream",
     "text": [
      "area of the circle of the radius 78.5\n"
     ]
    }
   ],
   "source": [
    "\n",
    "radius=5\n",
    "pi=3.14\n",
    "print(\"area of the circle of the radius\",pi* radius**2)"
   ]
  },
  {
   "cell_type": "code",
   "execution_count": 10,
   "id": "b14ec5b0",
   "metadata": {},
   "outputs": [],
   "source": [
    "# 5) create a variable name and assign it ur name as a string.print a greting using ur name such as \"hello[name]''"
   ]
  },
  {
   "cell_type": "code",
   "execution_count": 4,
   "id": "1555ab82",
   "metadata": {},
   "outputs": [
    {
     "name": "stdout",
     "output_type": "stream",
     "text": [
      "hello shameena\n"
     ]
    }
   ],
   "source": [
    "name='shameena'\n",
    "print(\"hello\",name)"
   ]
  },
  {
   "cell_type": "code",
   "execution_count": null,
   "id": "9a3389f9",
   "metadata": {},
   "outputs": [],
   "source": [
    "#6) create a variable age and assign it ur age as a integer. print asentencethat include ur age . such as\"i am [age]years old"
   ]
  },
  {
   "cell_type": "code",
   "execution_count": 11,
   "id": "31e37ada",
   "metadata": {},
   "outputs": [
    {
     "name": "stdout",
     "output_type": "stream",
     "text": [
      "i am  40 years old\n"
     ]
    }
   ],
   "source": [
    "age=40\n",
    "print(\"i am \", age ,\"years old\")"
   ]
  },
  {
   "cell_type": "code",
   "execution_count": null,
   "id": "f70d47d5",
   "metadata": {},
   "outputs": [],
   "source": [
    "#7)create a variable height and it ur height in meteras a float. print a sentence that includes ur height. such as \" i am [height]meters tall\""
   ]
  },
  {
   "cell_type": "code",
   "execution_count": 13,
   "id": "7980647f",
   "metadata": {},
   "outputs": [
    {
     "name": "stdout",
     "output_type": "stream",
     "text": [
      "i am  168.3 meters tall\n"
     ]
    }
   ],
   "source": [
    "height=168.3\n",
    "print(\"i am \",height,\"meters tall\")"
   ]
  },
  {
   "cell_type": "code",
   "execution_count": null,
   "id": "f88dc386",
   "metadata": {},
   "outputs": [],
   "source": [
    "#8) create a variable sentence and assign it a sentence as a string.print the firstletter of the sentence"
   ]
  },
  {
   "cell_type": "code",
   "execution_count": 7,
   "id": "e5eec2b6",
   "metadata": {},
   "outputs": [
    {
     "data": {
      "text/plain": [
       "'s'"
      ]
     },
     "execution_count": 7,
     "metadata": {},
     "output_type": "execute_result"
    }
   ],
   "source": [
    "string=\"sentence\"\n",
    "string[0]"
   ]
  },
  {
   "cell_type": "code",
   "execution_count": null,
   "id": "02ac499b",
   "metadata": {},
   "outputs": [],
   "source": [
    "#9)create a variable sentence and assign it a sentence as a string.print the last letter of the sentence"
   ]
  },
  {
   "cell_type": "code",
   "execution_count": 8,
   "id": "7fe3f24c",
   "metadata": {},
   "outputs": [
    {
     "data": {
      "text/plain": [
       "'e'"
      ]
     },
     "execution_count": 8,
     "metadata": {},
     "output_type": "execute_result"
    }
   ],
   "source": [
    "string='sentence'\n",
    "string[7]"
   ]
  },
  {
   "cell_type": "code",
   "execution_count": 12,
   "id": "8e64cc43",
   "metadata": {},
   "outputs": [],
   "source": [
    "#10) create a variable sentence and asssign it a sentence as a string print the length of the sentence"
   ]
  },
  {
   "cell_type": "code",
   "execution_count": 9,
   "id": "6f2bad45",
   "metadata": {},
   "outputs": [
    {
     "data": {
      "text/plain": [
       "8"
      ]
     },
     "execution_count": 9,
     "metadata": {},
     "output_type": "execute_result"
    }
   ],
   "source": [
    "string=\"sentence\"\n",
    "len(string)"
   ]
  }
 ],
 "metadata": {
  "kernelspec": {
   "display_name": "Python 3 (ipykernel)",
   "language": "python",
   "name": "python3"
  },
  "language_info": {
   "codemirror_mode": {
    "name": "ipython",
    "version": 3
   },
   "file_extension": ".py",
   "mimetype": "text/x-python",
   "name": "python",
   "nbconvert_exporter": "python",
   "pygments_lexer": "ipython3",
   "version": "3.11.3"
  }
 },
 "nbformat": 4,
 "nbformat_minor": 5
}
