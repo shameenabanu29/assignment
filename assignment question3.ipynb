{
 "cells": [
  {
   "cell_type": "markdown",
   "id": "00d2af66",
   "metadata": {},
   "source": [
    "                         #ASSIGNMENT QUESTION -3"
   ]
  },
  {
   "cell_type": "code",
   "execution_count": null,
   "id": "0b1cd928",
   "metadata": {},
   "outputs": [],
   "source": [
    "#1) import pandas and read the data into an data frame. print the first five rows of the data frame."
   ]
  },
  {
   "cell_type": "code",
   "execution_count": 25,
   "id": "52cff0ea",
   "metadata": {},
   "outputs": [
    {
     "name": "stdout",
     "output_type": "stream",
     "text": [
      "      Name  Gender  Age  Height (cm)  Weight (kg)         City\n",
      "0    Alice  Female   25          165           58     New York\n",
      "1      Bob    Male   30          180           80  Los Angeles\n",
      "2  Charlie    Male   35          175           70      Chicago\n",
      "3    Diana  Female   28          170           65        Miami\n",
      "4      Eva  Female   27          175           60     New York\n",
      "5    Frank    Male   40          190           85      Houston\n",
      "6    Grace  Female   32          168           55      Chicago\n",
      "7    Henry    Male   45          175           75  Los Angeles\n",
      "8      Ivy  Female   26          172           63        Miami\n",
      "9     Jack    Male   28          180           78     New York\n"
     ]
    }
   ],
   "source": [
    "import pandas as pd\n",
    "df= pd.read_excel(\"C:\\\\Users\\Shameena\\Downloads\\padas_question.xlsx\")\n",
    "print(df)"
   ]
  },
  {
   "cell_type": "code",
   "execution_count": 3,
   "id": "372bdf4c",
   "metadata": {},
   "outputs": [
    {
     "data": {
      "text/html": [
       "<div>\n",
       "<style scoped>\n",
       "    .dataframe tbody tr th:only-of-type {\n",
       "        vertical-align: middle;\n",
       "    }\n",
       "\n",
       "    .dataframe tbody tr th {\n",
       "        vertical-align: top;\n",
       "    }\n",
       "\n",
       "    .dataframe thead th {\n",
       "        text-align: right;\n",
       "    }\n",
       "</style>\n",
       "<table border=\"1\" class=\"dataframe\">\n",
       "  <thead>\n",
       "    <tr style=\"text-align: right;\">\n",
       "      <th></th>\n",
       "      <th>Name</th>\n",
       "      <th>Gender</th>\n",
       "      <th>Age</th>\n",
       "      <th>Height (cm)</th>\n",
       "      <th>Weight (kg)</th>\n",
       "      <th>City</th>\n",
       "    </tr>\n",
       "  </thead>\n",
       "  <tbody>\n",
       "    <tr>\n",
       "      <th>0</th>\n",
       "      <td>Alice</td>\n",
       "      <td>Female</td>\n",
       "      <td>25</td>\n",
       "      <td>165</td>\n",
       "      <td>58</td>\n",
       "      <td>New York</td>\n",
       "    </tr>\n",
       "    <tr>\n",
       "      <th>1</th>\n",
       "      <td>Bob</td>\n",
       "      <td>Male</td>\n",
       "      <td>30</td>\n",
       "      <td>180</td>\n",
       "      <td>80</td>\n",
       "      <td>Los Angeles</td>\n",
       "    </tr>\n",
       "    <tr>\n",
       "      <th>2</th>\n",
       "      <td>Charlie</td>\n",
       "      <td>Male</td>\n",
       "      <td>35</td>\n",
       "      <td>175</td>\n",
       "      <td>70</td>\n",
       "      <td>Chicago</td>\n",
       "    </tr>\n",
       "    <tr>\n",
       "      <th>3</th>\n",
       "      <td>Diana</td>\n",
       "      <td>Female</td>\n",
       "      <td>28</td>\n",
       "      <td>170</td>\n",
       "      <td>65</td>\n",
       "      <td>Miami</td>\n",
       "    </tr>\n",
       "    <tr>\n",
       "      <th>4</th>\n",
       "      <td>Eva</td>\n",
       "      <td>Female</td>\n",
       "      <td>27</td>\n",
       "      <td>175</td>\n",
       "      <td>60</td>\n",
       "      <td>New York</td>\n",
       "    </tr>\n",
       "  </tbody>\n",
       "</table>\n",
       "</div>"
      ],
      "text/plain": [
       "      Name  Gender  Age  Height (cm)  Weight (kg)         City\n",
       "0    Alice  Female   25          165           58     New York\n",
       "1      Bob    Male   30          180           80  Los Angeles\n",
       "2  Charlie    Male   35          175           70      Chicago\n",
       "3    Diana  Female   28          170           65        Miami\n",
       "4      Eva  Female   27          175           60     New York"
      ]
     },
     "execution_count": 3,
     "metadata": {},
     "output_type": "execute_result"
    }
   ],
   "source": [
    "df.head()"
   ]
  },
  {
   "cell_type": "code",
   "execution_count": 4,
   "id": "3cfbbb49",
   "metadata": {},
   "outputs": [],
   "source": [
    "#2)print the numbers of rows and columns in the data frame"
   ]
  },
  {
   "cell_type": "code",
   "execution_count": 5,
   "id": "0311570f",
   "metadata": {},
   "outputs": [
    {
     "name": "stdout",
     "output_type": "stream",
     "text": [
      "number of rows: 10\n",
      "number of column: 6\n"
     ]
    }
   ],
   "source": [
    "print(\"number of rows:\",df.shape[0])\n",
    "print(\"number of column:\",df.shape[1])"
   ]
  },
  {
   "cell_type": "code",
   "execution_count": 6,
   "id": "c8df8b7f",
   "metadata": {},
   "outputs": [],
   "source": [
    "#3)print the null value count"
   ]
  },
  {
   "cell_type": "code",
   "execution_count": 7,
   "id": "ab77b7bf",
   "metadata": {},
   "outputs": [
    {
     "name": "stdout",
     "output_type": "stream",
     "text": [
      "null value counts\n",
      "Name           0\n",
      "Gender         0\n",
      "Age            0\n",
      "Height (cm)    0\n",
      "Weight (kg)    0\n",
      "City           0\n",
      "dtype: int64\n"
     ]
    }
   ],
   "source": [
    "null_counts = df.isnull().sum()\n",
    "print(\"null value counts\")\n",
    "print(null_counts)"
   ]
  },
  {
   "cell_type": "code",
   "execution_count": 8,
   "id": "8bee2798",
   "metadata": {},
   "outputs": [],
   "source": [
    "#4)print the average age ,height and weight ofthe people inthe data frame"
   ]
  },
  {
   "cell_type": "code",
   "execution_count": 30,
   "id": "d285c24d",
   "metadata": {},
   "outputs": [
    {
     "name": "stdout",
     "output_type": "stream",
     "text": [
      "Average Age: 31.6\n",
      "Average Height: 175.0\n",
      "Average Weight: 68.9\n"
     ]
    }
   ],
   "source": [
    "avg_age = df['Age'].mean()\n",
    "avg_height = df['Height (cm)'].mean()\n",
    "avg_weight = df['Weight (kg)'].mean()\n",
    "\n",
    "print(\"Average Age:\", avg_age)\n",
    "print(\"Average Height:\", avg_height)\n",
    "print(\"Average Weight:\", avg_weight)"
   ]
  },
  {
   "cell_type": "code",
   "execution_count": 36,
   "id": "2ce1e54d",
   "metadata": {},
   "outputs": [],
   "source": [
    "#5)print the name and city of the person who is tallest in the data frame"
   ]
  },
  {
   "cell_type": "code",
   "execution_count": 35,
   "id": "fc37b919",
   "metadata": {},
   "outputs": [
    {
     "name": "stdout",
     "output_type": "stream",
     "text": [
      "Name of the tallest person: Frank\n",
      "City of the tallest person: Houston\n"
     ]
    }
   ],
   "source": [
    "tallest_index = df['Height (cm)'].idxmax()\n",
    "\n",
    "# Getting the name and city of the tallest person\n",
    "tallest_name = df.loc[tallest_index, 'Name']\n",
    "tallest_city = df.loc[tallest_index, 'City']\n",
    "print(\"Name of the tallest person:\", tallest_name)\n",
    "print(\"City of the tallest person:\", tallest_city)"
   ]
  },
  {
   "cell_type": "code",
   "execution_count": null,
   "id": "0484480a",
   "metadata": {},
   "outputs": [],
   "source": [
    "#6)create a new colum  IN THE data frame\"BMI\"that calculates the body mass index ofeach person"
   ]
  },
  {
   "cell_type": "code",
   "execution_count": 13,
   "id": "09c477c9",
   "metadata": {},
   "outputs": [
    {
     "ename": "NameError",
     "evalue": "name 'df' is not defined",
     "output_type": "error",
     "traceback": [
      "\u001b[1;31m---------------------------------------------------------------------------\u001b[0m",
      "\u001b[1;31mNameError\u001b[0m                                 Traceback (most recent call last)",
      "Cell \u001b[1;32mIn[13], line 1\u001b[0m\n\u001b[1;32m----> 1\u001b[0m df[\u001b[38;5;124m'\u001b[39m\u001b[38;5;124mBMI\u001b[39m\u001b[38;5;124m'\u001b[39m] \u001b[38;5;241m=\u001b[39m df[\u001b[38;5;124m'\u001b[39m\u001b[38;5;124mWeight (kg)\u001b[39m\u001b[38;5;124m'\u001b[39m] \u001b[38;5;241m/\u001b[39m (df[\u001b[38;5;124m'\u001b[39m\u001b[38;5;124m Height (cm)\u001b[39m\u001b[38;5;124m'\u001b[39m] \u001b[38;5;241m*\u001b[39m\u001b[38;5;241m*\u001b[39m\u001b[38;5;241m2\u001b[39m) \n\u001b[0;32m      2\u001b[0m \u001b[38;5;28mprint\u001b[39m(df)\n",
      "\u001b[1;31mNameError\u001b[0m: name 'df' is not defined"
     ]
    }
   ],
   "source": [
    "\n",
    "df['BMI'] = df['Weight (kg)'] / (df[' Height (cm)'] ** 2) \n",
    "print(df)"
   ]
  },
  {
   "cell_type": "code",
   "execution_count": 6,
   "id": "76284982",
   "metadata": {},
   "outputs": [],
   "source": [
    "#7) group the data by gender and print the average age ,height, and weight of males and females seperately."
   ]
  },
  {
   "cell_type": "code",
   "execution_count": 21,
   "id": "a009a87a",
   "metadata": {},
   "outputs": [
    {
     "name": "stdout",
     "output_type": "stream",
     "text": [
      "         Age  Height (cm)  Weight (kg)\n",
      "Gender                                \n",
      "Female  27.6        170.0         60.2\n",
      "Male    35.6        180.0         77.6\n"
     ]
    },
    {
     "name": "stderr",
     "output_type": "stream",
     "text": [
      "C:\\Users\\Shameena\\AppData\\Local\\Temp\\ipykernel_15052\\2032972165.py:1: FutureWarning: The default value of numeric_only in DataFrameGroupBy.mean is deprecated. In a future version, numeric_only will default to False. Either specify numeric_only or select only columns which should be valid for the function.\n",
      "  avg_data = df.groupby('Gender').mean()\n"
     ]
    }
   ],
   "source": [
    "avg_data = df.groupby('Gender').mean()\n",
    "print(avg_data)"
   ]
  },
  {
   "cell_type": "code",
   "execution_count": 12,
   "id": "6751e57e",
   "metadata": {},
   "outputs": [],
   "source": [
    "#8) sort the data by age in ascending order and print the first 3 rows of  the sorted data frame."
   ]
  },
  {
   "cell_type": "code",
   "execution_count": 17,
   "id": "ed4b2de7",
   "metadata": {},
   "outputs": [
    {
     "name": "stdout",
     "output_type": "stream",
     "text": [
      "    Name  Gender  Age  Height (cm)  Weight (kg)      City\n",
      "0  Alice  Female   25          165           58  New York\n",
      "8    Ivy  Female   26          172           63     Miami\n",
      "4    Eva  Female   27          175           60  New York\n"
     ]
    }
   ],
   "source": [
    "\n",
    "\n",
    "sorted_df = df.sort_values(by='Age')\n",
    "print(sorted_df.head(3))"
   ]
  },
  {
   "cell_type": "code",
   "execution_count": 13,
   "id": "f140e925",
   "metadata": {},
   "outputs": [],
   "source": [
    "#9) filter the data to only include people who live in new york and print the resulting data frame"
   ]
  },
  {
   "cell_type": "code",
   "execution_count": 19,
   "id": "0608c88a",
   "metadata": {},
   "outputs": [
    {
     "name": "stdout",
     "output_type": "stream",
     "text": [
      "    Name  Gender  Age  Height (cm)  Weight (kg)      City\n",
      "0  Alice  Female   25          165           58  New York\n",
      "4    Eva  Female   27          175           60  New York\n",
      "9   Jack    Male   28          180           78  New York\n"
     ]
    }
   ],
   "source": [
    "ny_df = df[df['City'] == 'New York']\n",
    "print(ny_df)"
   ]
  }
 ],
 "metadata": {
  "kernelspec": {
   "display_name": "Python 3 (ipykernel)",
   "language": "python",
   "name": "python3"
  },
  "language_info": {
   "codemirror_mode": {
    "name": "ipython",
    "version": 3
   },
   "file_extension": ".py",
   "mimetype": "text/x-python",
   "name": "python",
   "nbconvert_exporter": "python",
   "pygments_lexer": "ipython3",
   "version": "3.11.3"
  }
 },
 "nbformat": 4,
 "nbformat_minor": 5
}
